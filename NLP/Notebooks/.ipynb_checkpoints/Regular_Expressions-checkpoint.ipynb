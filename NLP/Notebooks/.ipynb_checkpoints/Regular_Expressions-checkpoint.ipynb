{
 "cells": [
  {
   "cell_type": "code",
   "execution_count": 12,
   "metadata": {},
   "outputs": [],
   "source": [
    "import re"
   ]
  },
  {
   "cell_type": "code",
   "execution_count": 33,
   "metadata": {},
   "outputs": [],
   "source": [
    "text = \"The phone number is 312-774-6625. Please call this phone number to contact Vaishnavi.R\""
   ]
  },
  {
   "cell_type": "code",
   "execution_count": 34,
   "metadata": {},
   "outputs": [],
   "source": [
    "pattern = \"phone\""
   ]
  },
  {
   "cell_type": "code",
   "execution_count": 35,
   "metadata": {},
   "outputs": [],
   "source": [
    "match = re.search(pattern,text) # Finds the first pattern"
   ]
  },
  {
   "cell_type": "code",
   "execution_count": 36,
   "metadata": {},
   "outputs": [
    {
     "data": {
      "text/plain": [
       "(4, 9)"
      ]
     },
     "execution_count": 36,
     "metadata": {},
     "output_type": "execute_result"
    }
   ],
   "source": [
    "match.span()"
   ]
  },
  {
   "cell_type": "code",
   "execution_count": 37,
   "metadata": {},
   "outputs": [],
   "source": [
    "all_match = re.findall(pattern,text) # finds all patterns"
   ]
  },
  {
   "cell_type": "code",
   "execution_count": 38,
   "metadata": {},
   "outputs": [
    {
     "data": {
      "text/plain": [
       "2"
      ]
     },
     "execution_count": 38,
     "metadata": {},
     "output_type": "execute_result"
    }
   ],
   "source": [
    "len(all_match)"
   ]
  },
  {
   "cell_type": "code",
   "execution_count": 39,
   "metadata": {},
   "outputs": [
    {
     "name": "stdout",
     "output_type": "stream",
     "text": [
      "(4, 9)\n",
      "(51, 56)\n"
     ]
    }
   ],
   "source": [
    "for match in re.finditer(pattern,text):\n",
    "    print(match.span())"
   ]
  },
  {
   "cell_type": "code",
   "execution_count": 40,
   "metadata": {},
   "outputs": [
    {
     "data": {
      "text/plain": [
       "<_sre.SRE_Match object; span=(20, 32), match='312-774-6625'>"
      ]
     },
     "execution_count": 40,
     "metadata": {},
     "output_type": "execute_result"
    }
   ],
   "source": [
    "#pattern_phn = r'\\d\\d\\d-\\d\\d\\d-\\d\\d\\d\\d' # can use both\n",
    "pattern_phn = r'\\d{3}-\\d{3}-\\d{4}'\n",
    "\n",
    "match_num = re.search(pattern_phn,text)\n",
    "\n",
    "match_num"
   ]
  },
  {
   "cell_type": "code",
   "execution_count": 41,
   "metadata": {},
   "outputs": [
    {
     "data": {
      "text/plain": [
       "'312-774-6625'"
      ]
     },
     "execution_count": 41,
     "metadata": {},
     "output_type": "execute_result"
    }
   ],
   "source": [
    "match_num.group()"
   ]
  },
  {
   "cell_type": "code",
   "execution_count": 45,
   "metadata": {},
   "outputs": [
    {
     "name": "stdout",
     "output_type": "stream",
     "text": [
      "<_sre.SRE_Match object; span=(11, 14), match='man'>\n",
      "<_sre.SRE_Match object; span=(11, 16), match='woman'>\n"
     ]
    }
   ],
   "source": [
    "# | pipe operator used as \"OR\"\n",
    "\n",
    "print(re.search(\"man|woman\", \"There is a man in the house\"))\n",
    "print(re.search(\"man|woman\", \"There is a woman in the house\"))"
   ]
  },
  {
   "cell_type": "code",
   "execution_count": 48,
   "metadata": {},
   "outputs": [
    {
     "name": "stdout",
     "output_type": "stream",
     "text": [
      "<_sre.SRE_Match object; span=(9, 12), match='cat'>\n",
      "['cat', 'lat', 'hat', 'pat']\n",
      "[' cat', 'plat', ' hat', ' pat']\n"
     ]
    }
   ],
   "source": [
    "# * is a wildcard character\n",
    "\n",
    "print(re.search(r\".at\",\"How is a cat splat on a hat gets a pat\"))\n",
    "print(re.findall(r\".at\",\"How is a cat splat on a hat gets a pat\"))\n",
    "print(re.findall(r\"..at\",\"How is a cat splat on a hat gets a pat\"))"
   ]
  },
  {
   "cell_type": "code",
   "execution_count": 54,
   "metadata": {},
   "outputs": [
    {
     "name": "stdout",
     "output_type": "stream",
     "text": [
      "<_sre.SRE_Match object; span=(0, 1), match='1'>\n",
      "<_sre.SRE_Match object; span=(18, 19), match='2'>\n",
      "['1']\n",
      "['2']\n"
     ]
    }
   ],
   "source": [
    "# $ sign signals ends with\n",
    "# ^ sign indicates starts with\n",
    "\n",
    "print(re.search(r'^\\d',\"1 is biggger than 2\"))\n",
    "print(re.search(r'\\d$',\"1 is biggger than 2\"))\n",
    "\n",
    "print(re.findall(r'^\\d',\"1 is biggger than 2\"))\n",
    "print(re.findall(r'\\d$',\"1 is biggger than 2\"))"
   ]
  },
  {
   "cell_type": "code",
   "execution_count": 63,
   "metadata": {},
   "outputs": [
    {
     "name": "stdout",
     "output_type": "stream",
     "text": [
      "['Have to remove all the punctuations', ' in this sentence', ' Is there a lot', ' ']\n",
      "['This is to remove all the ', ',', ',', ' numbers in this sentence and also ', ',', ',', '.']\n"
     ]
    }
   ],
   "source": [
    "# [] denotes exclusion\n",
    "\n",
    "str1 = re.findall(r\"[^,.?]+\", \"Have to remove all the punctuations, in this sentence. Is there a lot? \")\n",
    "str2 = re.findall(r\"[^\\d]+\", \"This is to remove all the 1,2,3 numbers in this sentence and also 4,5,6.\")\n",
    "print(str1)\n",
    "print(str2)"
   ]
  }
 ],
 "metadata": {
  "kernelspec": {
   "display_name": "Python 3",
   "language": "python",
   "name": "python3"
  },
  "language_info": {
   "codemirror_mode": {
    "name": "ipython",
    "version": 3
   },
   "file_extension": ".py",
   "mimetype": "text/x-python",
   "name": "python",
   "nbconvert_exporter": "python",
   "pygments_lexer": "ipython3",
   "version": "3.6.8"
  }
 },
 "nbformat": 4,
 "nbformat_minor": 2
}

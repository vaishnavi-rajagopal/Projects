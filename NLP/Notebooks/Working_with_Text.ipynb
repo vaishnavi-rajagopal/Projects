{
 "cells": [
  {
   "cell_type": "code",
   "execution_count": 1,
   "metadata": {},
   "outputs": [
    {
     "name": "stdout",
     "output_type": "stream",
     "text": [
      "Overwriting test.txt\n"
     ]
    }
   ],
   "source": [
    "%%writefile test.txt\n",
    "Hi, This is a test file and I am writing this to understand how to create files and read them\n",
    "This is an added line to see if readline is splitting this as two items in a list."
   ]
  },
  {
   "cell_type": "code",
   "execution_count": 2,
   "metadata": {},
   "outputs": [
    {
     "data": {
      "text/plain": [
       "<_io.TextIOWrapper name='test.txt' mode='a+' encoding='UTF-8'>"
      ]
     },
     "execution_count": 2,
     "metadata": {},
     "output_type": "execute_result"
    }
   ],
   "source": [
    "#myfile = open(\"test.txt\",'r') # This open the existing file in read mode\n",
    "#myfile = open(\"test.txt\",'w') # This open the existing file inn write mode\n",
    "#myfile = open(\"test.txt\",'w+') # This overwrites the existing file\n",
    "myfile = open(\"test.txt\",'a+') # creates a new file is not exists, appends if there is an existing file\n",
    "myfile"
   ]
  },
  {
   "cell_type": "code",
   "execution_count": 3,
   "metadata": {},
   "outputs": [
    {
     "data": {
      "text/plain": [
       "'/Users/vaishnavi/Documents/MIDS/Machine Learning/w266/Practice'"
      ]
     },
     "execution_count": 3,
     "metadata": {},
     "output_type": "execute_result"
    }
   ],
   "source": [
    "pwd"
   ]
  },
  {
   "cell_type": "code",
   "execution_count": 4,
   "metadata": {},
   "outputs": [
    {
     "data": {
      "text/plain": [
       "''"
      ]
     },
     "execution_count": 4,
     "metadata": {},
     "output_type": "execute_result"
    }
   ],
   "source": [
    "content = myfile.read()\n",
    "content"
   ]
  },
  {
   "cell_type": "code",
   "execution_count": 5,
   "metadata": {},
   "outputs": [
    {
     "data": {
      "text/plain": [
       "['Hi, This is a test file and I am writing this to understand how to create files and read them\\n',\n",
       " 'This is an added line to see if readline is splitting this as two items in a list.\\n']"
      ]
     },
     "execution_count": 5,
     "metadata": {},
     "output_type": "execute_result"
    }
   ],
   "source": [
    "myfile.seek(0)\n",
    "myfile.readlines()\n"
   ]
  },
  {
   "cell_type": "code",
   "execution_count": 6,
   "metadata": {},
   "outputs": [
    {
     "data": {
      "text/plain": [
       "0"
      ]
     },
     "execution_count": 6,
     "metadata": {},
     "output_type": "execute_result"
    }
   ],
   "source": [
    "myfile.write(\"Adding a third line\")\n",
    "myfile.seek(0)"
   ]
  },
  {
   "cell_type": "code",
   "execution_count": 7,
   "metadata": {},
   "outputs": [
    {
     "data": {
      "text/plain": [
       "'Hi, This is a test file and I am writing this to understand how to create files and read them\\nThis is an added line to see if readline is splitting this as two items in a list.\\nAdding a third line'"
      ]
     },
     "execution_count": 7,
     "metadata": {},
     "output_type": "execute_result"
    }
   ],
   "source": [
    "content = myfile.read()\n",
    "content"
   ]
  },
  {
   "cell_type": "code",
   "execution_count": 12,
   "metadata": {},
   "outputs": [],
   "source": [
    "#pip install PyPDF2\n",
    "import PyPDF2 as pdf"
   ]
  },
  {
   "cell_type": "code",
   "execution_count": 13,
   "metadata": {},
   "outputs": [],
   "source": [
    "mypdf = open(\"N-grams.pdf\",'rb')"
   ]
  },
  {
   "cell_type": "code",
   "execution_count": 14,
   "metadata": {},
   "outputs": [
    {
     "data": {
      "text/plain": [
       "<PyPDF2.pdf.PdfFileReader at 0x10fd34668>"
      ]
     },
     "execution_count": 14,
     "metadata": {},
     "output_type": "execute_result"
    }
   ],
   "source": [
    "pdf_reader = pdf.PdfFileReader(mypdf)\n",
    "pdf_reader"
   ]
  },
  {
   "cell_type": "code",
   "execution_count": 15,
   "metadata": {},
   "outputs": [
    {
     "data": {
      "text/plain": [
       "28"
      ]
     },
     "execution_count": 15,
     "metadata": {},
     "output_type": "execute_result"
    }
   ],
   "source": [
    "pdf_reader.numPages"
   ]
  },
  {
   "cell_type": "code",
   "execution_count": 16,
   "metadata": {},
   "outputs": [],
   "source": [
    "page1 = pdf_reader.getPage(0)"
   ]
  },
  {
   "cell_type": "code",
   "execution_count": 18,
   "metadata": {},
   "outputs": [
    {
     "name": "stdout",
     "output_type": "stream",
     "text": [
      "SpeechandLanguageProcessing.DanielJurafsky&JamesH.Martin.Copyright\n",
      "c\n",
      "\n",
      "2019.All\n",
      "rightsreserved.DraftofOctober2,2019.\n",
      "CHAPTER\n",
      "3\n",
      "N-gramLanguageModels\n",
      "ﬁYouareuniformlycharming!ﬂcriedhe,withasmileofassociatingandnow\n",
      "andthenIbowedandtheyperceivedachaiseandfourtowishfor.\n",
      "RandomsentencegeneratedfromaJaneAustentrigrammodel\n",
      "Predictingisdifaboutthefuture,astheoldquipgoes.Buthow\n",
      "aboutpredictingsomethingthatseemsmucheasier,likethenextfewwordssomeone\n",
      "isgoingtosay?Whatword,forexample,islikelytofollow\n",
      "Pleaseturnyourhomework...\n",
      "Hopefully,mostofyouconcludedthataverylikelywordis\n",
      "in\n",
      ",orpossibly\n",
      "over\n",
      ",\n",
      "butprobablynot\n",
      "refrigerator\n",
      "or\n",
      "the\n",
      ".Inthefollowingsectionswewillformalize\n",
      "thisintuitionbyintroducingmodelsthatassigna\n",
      "probability\n",
      "toeachpossiblenext\n",
      "word.Thesamemodelswillalsoservetoassignaprobabilitytoanentiresentence.\n",
      "Suchamodel,forexample,couldpredictthatthefollowingsequencehasamuch\n",
      "higherprobabilityofappearinginatext:\n",
      "allofasuddenInoticethreeguysstandingonthesidewalk\n",
      "thandoesthissamesetofwordsinadifferentorder:\n",
      "onguysallIofnoticesidewalkthreeasuddenstandingthe\n",
      "Whywouldyouwanttopredictupcomingwords,orassignprobabilitiestosen-\n",
      "tences?Probabilitiesareessentialinanytaskinwhichwehavetoidentifywordsin\n",
      "noisy,ambiguousinput,like\n",
      "speechrecognition\n",
      ".Foraspeechrecognizertorealize\n",
      "thatyousaid\n",
      "Iwillbebacksoonish\n",
      "andnot\n",
      "Iwillbebassoondish\n",
      ",ithelpstoknow\n",
      "that\n",
      "backsoonish\n",
      "isamuchmoreprobablesequencethan\n",
      "bassoondish\n",
      ".Forwriting\n",
      "toolslike\n",
      "spellingcorrection\n",
      "or\n",
      "grammaticalerrorcorrection\n",
      ",weneedtoand\n",
      "correcterrorsinwritinglike\n",
      "Theiraretwomidterms\n",
      ",inwhich\n",
      "There\n",
      "wasmistyped\n",
      "as\n",
      "Their\n",
      ",or\n",
      "Everythinghasimprove\n",
      ",inwhich\n",
      "improve\n",
      "shouldhavebeen\n",
      "improved\n",
      ".\n",
      "Thephrase\n",
      "Thereare\n",
      "willbemuchmoreprobablethan\n",
      "Theirare\n",
      ",and\n",
      "hasimproved\n",
      "than\n",
      "hasimprove\n",
      ",allowingustohelpusersbydetectingandcorrectingtheseerrors.\n",
      "Assigningprobabilitiestosequencesofwordsisalsoessentialin\n",
      "machinetrans-\n",
      "lation\n",
      ".SupposewearetranslatingaChinesesourcesentence:\n",
      "Ö\n",
      "\n",
      "°\n",
      "\n",
      "Ë\n",
      "Í\n",
      "ƒ;\n",
      "†\n",
      "–\n",
      "¹\n",
      "Hetoreportersintroducedmaincontent\n",
      "Aspartoftheprocesswemighthavebuiltthefollowingsetofpotentialrough\n",
      "Englishtranslations:\n",
      "heintroducedreporterstothemaincontentsofthestatement\n",
      "hebriefedtoreportersthemaincontentsofthestatement\n",
      "hebriefedreportersonthemaincontentsofthestatement\n",
      "\n"
     ]
    }
   ],
   "source": [
    "page_one = page1.extractText()\n",
    "print(page_one)"
   ]
  }
 ],
 "metadata": {
  "kernelspec": {
   "display_name": "Python 3",
   "language": "python",
   "name": "python3"
  },
  "language_info": {
   "codemirror_mode": {
    "name": "ipython",
    "version": 3
   },
   "file_extension": ".py",
   "mimetype": "text/x-python",
   "name": "python",
   "nbconvert_exporter": "python",
   "pygments_lexer": "ipython3",
   "version": "3.6.8"
  }
 },
 "nbformat": 4,
 "nbformat_minor": 2
}
